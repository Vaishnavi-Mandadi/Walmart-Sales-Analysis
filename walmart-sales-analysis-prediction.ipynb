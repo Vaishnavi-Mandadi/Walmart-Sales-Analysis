{
 "cells": [
  {
   "cell_type": "markdown",
   "id": "582767fe",
   "metadata": {
    "papermill": {
     "duration": 0.008106,
     "end_time": "2022-11-18T19:11:07.950827",
     "exception": false,
     "start_time": "2022-11-18T19:11:07.942721",
     "status": "completed"
    },
    "tags": []
   },
   "source": [
    "# ** <code style=\"background:blue;color:white\">Walmart Sales Anaylysis & Prediction</code>**"
   ]
  },
  {
   "cell_type": "markdown",
   "id": "f3046ab0",
   "metadata": {
    "papermill": {
     "duration": 0.007262,
     "end_time": "2022-11-18T19:11:07.966441",
     "exception": false,
     "start_time": "2022-11-18T19:11:07.959179",
     "status": "completed"
    },
    "tags": []
   },
   "source": [
    "# <b>Introducing Walmart</b>"
   ]
  },
  {
   "cell_type": "markdown",
   "id": "34eafbe9",
   "metadata": {
    "papermill": {
     "duration": 0.007082,
     "end_time": "2022-11-18T19:11:07.981541",
     "exception": false,
     "start_time": "2022-11-18T19:11:07.974459",
     "status": "completed"
    },
    "tags": []
   },
   "source": [
    "Walmart Inc., founded by Sam Walton in 1962 and , headquartered in Arkansas,is an American multinational retail corporation that operates a chain of hypermarkets (also called supercenters), discount department stores, and grocery stores. \n",
    "\n",
    "As of October 31, 2022, Walmart has 10,586 stores in 24 countries. Walmart is the world's largest company by revenue, with about US$570 billion in annual revenue and the largest private employer in the world with 2.2 million employees. "
   ]
  },
  {
   "cell_type": "markdown",
   "id": "bba04755",
   "metadata": {
    "papermill": {
     "duration": 0.00709,
     "end_time": "2022-11-18T19:11:07.995812",
     "exception": false,
     "start_time": "2022-11-18T19:11:07.988722",
     "status": "completed"
    },
    "tags": []
   },
   "source": [
    "# <b>About Dataset</b>"
   ]
  },
  {
   "cell_type": "markdown",
   "id": "fc9b3008",
   "metadata": {
    "papermill": {
     "duration": 0.007081,
     "end_time": "2022-11-18T19:11:08.010293",
     "exception": false,
     "start_time": "2022-11-18T19:11:08.003212",
     "status": "completed"
    },
    "tags": []
   },
   "source": [
    "The file has information about the Weekly Sales of 45 stores for the year 2010-2012 including the factors affectors affecting Sales such as Holidays, Temperature, Fuel Price, CPI, and Unemployment.\n",
    "\n",
    "Within the Dataset file, following fields are present:\n",
    "    <br>1. Store - the store number\n",
    "    <br>2. Date - the week of sales\n",
    "    <br>3. Weekly_Sales - sales for the given store\n",
    "    <br>4. Holiday_Flag - whether the week is a holiday week 1 – Holiday week 0 – Non-holiday week\n",
    "    <br>5. Temperature - Temperature on the day of sale\n",
    "    <br>6. Fuel_Price - Cost of fuel in the region\n",
    "    <br>7. CPI – Prevailing consumer price index\n",
    "    <br>8. Unemployment - Prevailing unemployment rate\n",
    "\n",
    "**Holiday Events in the Week**\n",
    "    <br>Super Bowl: 12-Feb-10, 11-Feb-11, 10-Feb-12\n",
    "    <br>Labour Day: 10-Sep-10, 9-Sep-11, 7-Sep-12\n",
    "    <br>Thanksgiving: 26-Nov-10, 25-Nov-11, 23-Nov-12\n",
    "    <br>Christmas: 31-Dec-10, 30-Dec-11, 28-Dec-12"
   ]
  },
  {
   "cell_type": "markdown",
   "id": "5eafea78",
   "metadata": {
    "papermill": {
     "duration": 0.008091,
     "end_time": "2022-11-18T19:11:08.025781",
     "exception": false,
     "start_time": "2022-11-18T19:11:08.017690",
     "status": "completed"
    },
    "tags": []
   },
   "source": [
    "# <b>Importing Libraries</b>"
   ]
  },
  {
   "cell_type": "code",
   "execution_count": 1,
   "id": "e292fe26",
   "metadata": {
    "execution": {
     "iopub.execute_input": "2022-11-18T19:11:08.042524Z",
     "iopub.status.busy": "2022-11-18T19:11:08.042082Z",
     "iopub.status.idle": "2022-11-18T19:11:09.244842Z",
     "shell.execute_reply": "2022-11-18T19:11:09.243386Z"
    },
    "papermill": {
     "duration": 1.214258,
     "end_time": "2022-11-18T19:11:09.247359",
     "exception": false,
     "start_time": "2022-11-18T19:11:08.033101",
     "status": "completed"
    },
    "tags": []
   },
   "outputs": [
    {
     "name": "stdout",
     "output_type": "stream",
     "text": [
      "/kaggle/input/walmart-sales-dataset-of-45stores/walmart-sales-dataset-of-45stores.csv\n"
     ]
    }
   ],
   "source": [
    "import numpy as np # linear algebra\n",
    "import pandas as pd # data processing, CSV file I/O (e.g. pd.read_csv)\n",
    "\n",
    "# For Plotting\n",
    "import seaborn as sns\n",
    "import matplotlib.pyplot as plt\n",
    "\n",
    "import os\n",
    "for dirname, _, filenames in os.walk('/kaggle/input'):\n",
    "    for filename in filenames:\n",
    "        print(os.path.join(dirname, filename))\n",
    "\n",
    "import warnings\n",
    "warnings.filterwarnings('ignore')"
   ]
  },
  {
   "cell_type": "markdown",
   "id": "167c7d72",
   "metadata": {
    "papermill": {
     "duration": 0.007351,
     "end_time": "2022-11-18T19:11:09.262899",
     "exception": false,
     "start_time": "2022-11-18T19:11:09.255548",
     "status": "completed"
    },
    "tags": []
   },
   "source": [
    "# <b>Understanding Data</b>"
   ]
  },
  {
   "cell_type": "code",
   "execution_count": 2,
   "id": "57c92746",
   "metadata": {
    "execution": {
     "iopub.execute_input": "2022-11-18T19:11:09.279430Z",
     "iopub.status.busy": "2022-11-18T19:11:09.279020Z",
     "iopub.status.idle": "2022-11-18T19:11:09.309838Z",
     "shell.execute_reply": "2022-11-18T19:11:09.308176Z"
    },
    "papermill": {
     "duration": 0.042086,
     "end_time": "2022-11-18T19:11:09.312500",
     "exception": false,
     "start_time": "2022-11-18T19:11:09.270414",
     "status": "completed"
    },
    "tags": []
   },
   "outputs": [],
   "source": [
    "df = pd.read_csv('../input/walmart-sales-dataset-of-45stores/walmart-sales-dataset-of-45stores.csv')"
   ]
  },
  {
   "cell_type": "code",
   "execution_count": 3,
   "id": "75f8710f",
   "metadata": {
    "execution": {
     "iopub.execute_input": "2022-11-18T19:11:09.330154Z",
     "iopub.status.busy": "2022-11-18T19:11:09.328935Z",
     "iopub.status.idle": "2022-11-18T19:11:09.354609Z",
     "shell.execute_reply": "2022-11-18T19:11:09.353433Z"
    },
    "papermill": {
     "duration": 0.036684,
     "end_time": "2022-11-18T19:11:09.356961",
     "exception": false,
     "start_time": "2022-11-18T19:11:09.320277",
     "status": "completed"
    },
    "tags": []
   },
   "outputs": [
    {
     "data": {
      "text/html": [
       "<div>\n",
       "<style scoped>\n",
       "    .dataframe tbody tr th:only-of-type {\n",
       "        vertical-align: middle;\n",
       "    }\n",
       "\n",
       "    .dataframe tbody tr th {\n",
       "        vertical-align: top;\n",
       "    }\n",
       "\n",
       "    .dataframe thead th {\n",
       "        text-align: right;\n",
       "    }\n",
       "</style>\n",
       "<table border=\"1\" class=\"dataframe\">\n",
       "  <thead>\n",
       "    <tr style=\"text-align: right;\">\n",
       "      <th></th>\n",
       "      <th>Store</th>\n",
       "      <th>Date</th>\n",
       "      <th>Weekly_Sales</th>\n",
       "      <th>Holiday_Flag</th>\n",
       "      <th>Temperature</th>\n",
       "      <th>Fuel_Price</th>\n",
       "      <th>CPI</th>\n",
       "      <th>Unemployment</th>\n",
       "    </tr>\n",
       "  </thead>\n",
       "  <tbody>\n",
       "    <tr>\n",
       "      <th>0</th>\n",
       "      <td>1</td>\n",
       "      <td>05-02-2010</td>\n",
       "      <td>1643690.90</td>\n",
       "      <td>0</td>\n",
       "      <td>42.31</td>\n",
       "      <td>2.572</td>\n",
       "      <td>211.096358</td>\n",
       "      <td>8.106</td>\n",
       "    </tr>\n",
       "    <tr>\n",
       "      <th>1</th>\n",
       "      <td>1</td>\n",
       "      <td>12-02-2010</td>\n",
       "      <td>1641957.44</td>\n",
       "      <td>1</td>\n",
       "      <td>38.51</td>\n",
       "      <td>2.548</td>\n",
       "      <td>211.242170</td>\n",
       "      <td>8.106</td>\n",
       "    </tr>\n",
       "    <tr>\n",
       "      <th>2</th>\n",
       "      <td>1</td>\n",
       "      <td>19-02-2010</td>\n",
       "      <td>1611968.17</td>\n",
       "      <td>0</td>\n",
       "      <td>39.93</td>\n",
       "      <td>2.514</td>\n",
       "      <td>211.289143</td>\n",
       "      <td>8.106</td>\n",
       "    </tr>\n",
       "    <tr>\n",
       "      <th>3</th>\n",
       "      <td>1</td>\n",
       "      <td>26-02-2010</td>\n",
       "      <td>1409727.59</td>\n",
       "      <td>0</td>\n",
       "      <td>46.63</td>\n",
       "      <td>2.561</td>\n",
       "      <td>211.319643</td>\n",
       "      <td>8.106</td>\n",
       "    </tr>\n",
       "    <tr>\n",
       "      <th>4</th>\n",
       "      <td>1</td>\n",
       "      <td>05-03-2010</td>\n",
       "      <td>1554806.68</td>\n",
       "      <td>0</td>\n",
       "      <td>46.50</td>\n",
       "      <td>2.625</td>\n",
       "      <td>211.350143</td>\n",
       "      <td>8.106</td>\n",
       "    </tr>\n",
       "    <tr>\n",
       "      <th>5</th>\n",
       "      <td>1</td>\n",
       "      <td>12-03-2010</td>\n",
       "      <td>1439541.59</td>\n",
       "      <td>0</td>\n",
       "      <td>57.79</td>\n",
       "      <td>2.667</td>\n",
       "      <td>211.380643</td>\n",
       "      <td>8.106</td>\n",
       "    </tr>\n",
       "    <tr>\n",
       "      <th>6</th>\n",
       "      <td>1</td>\n",
       "      <td>19-03-2010</td>\n",
       "      <td>1472515.79</td>\n",
       "      <td>0</td>\n",
       "      <td>54.58</td>\n",
       "      <td>2.720</td>\n",
       "      <td>211.215635</td>\n",
       "      <td>8.106</td>\n",
       "    </tr>\n",
       "    <tr>\n",
       "      <th>7</th>\n",
       "      <td>1</td>\n",
       "      <td>26-03-2010</td>\n",
       "      <td>1404429.92</td>\n",
       "      <td>0</td>\n",
       "      <td>51.45</td>\n",
       "      <td>2.732</td>\n",
       "      <td>211.018042</td>\n",
       "      <td>8.106</td>\n",
       "    </tr>\n",
       "    <tr>\n",
       "      <th>8</th>\n",
       "      <td>1</td>\n",
       "      <td>02-04-2010</td>\n",
       "      <td>1594968.28</td>\n",
       "      <td>0</td>\n",
       "      <td>62.27</td>\n",
       "      <td>2.719</td>\n",
       "      <td>210.820450</td>\n",
       "      <td>7.808</td>\n",
       "    </tr>\n",
       "    <tr>\n",
       "      <th>9</th>\n",
       "      <td>1</td>\n",
       "      <td>09-04-2010</td>\n",
       "      <td>1545418.53</td>\n",
       "      <td>0</td>\n",
       "      <td>65.86</td>\n",
       "      <td>2.770</td>\n",
       "      <td>210.622857</td>\n",
       "      <td>7.808</td>\n",
       "    </tr>\n",
       "  </tbody>\n",
       "</table>\n",
       "</div>"
      ],
      "text/plain": [
       "   Store        Date  Weekly_Sales  Holiday_Flag  Temperature  Fuel_Price  \\\n",
       "0      1  05-02-2010    1643690.90             0        42.31       2.572   \n",
       "1      1  12-02-2010    1641957.44             1        38.51       2.548   \n",
       "2      1  19-02-2010    1611968.17             0        39.93       2.514   \n",
       "3      1  26-02-2010    1409727.59             0        46.63       2.561   \n",
       "4      1  05-03-2010    1554806.68             0        46.50       2.625   \n",
       "5      1  12-03-2010    1439541.59             0        57.79       2.667   \n",
       "6      1  19-03-2010    1472515.79             0        54.58       2.720   \n",
       "7      1  26-03-2010    1404429.92             0        51.45       2.732   \n",
       "8      1  02-04-2010    1594968.28             0        62.27       2.719   \n",
       "9      1  09-04-2010    1545418.53             0        65.86       2.770   \n",
       "\n",
       "          CPI  Unemployment  \n",
       "0  211.096358         8.106  \n",
       "1  211.242170         8.106  \n",
       "2  211.289143         8.106  \n",
       "3  211.319643         8.106  \n",
       "4  211.350143         8.106  \n",
       "5  211.380643         8.106  \n",
       "6  211.215635         8.106  \n",
       "7  211.018042         8.106  \n",
       "8  210.820450         7.808  \n",
       "9  210.622857         7.808  "
      ]
     },
     "execution_count": 3,
     "metadata": {},
     "output_type": "execute_result"
    }
   ],
   "source": [
    "df.head(10)"
   ]
  },
  {
   "cell_type": "code",
   "execution_count": 4,
   "id": "d40b2246",
   "metadata": {
    "execution": {
     "iopub.execute_input": "2022-11-18T19:11:09.376999Z",
     "iopub.status.busy": "2022-11-18T19:11:09.375823Z",
     "iopub.status.idle": "2022-11-18T19:11:09.400026Z",
     "shell.execute_reply": "2022-11-18T19:11:09.399085Z"
    },
    "papermill": {
     "duration": 0.036716,
     "end_time": "2022-11-18T19:11:09.402337",
     "exception": false,
     "start_time": "2022-11-18T19:11:09.365621",
     "status": "completed"
    },
    "tags": []
   },
   "outputs": [
    {
     "name": "stdout",
     "output_type": "stream",
     "text": [
      "<class 'pandas.core.frame.DataFrame'>\n",
      "RangeIndex: 6435 entries, 0 to 6434\n",
      "Data columns (total 8 columns):\n",
      " #   Column        Non-Null Count  Dtype  \n",
      "---  ------        --------------  -----  \n",
      " 0   Store         6435 non-null   int64  \n",
      " 1   Date          6435 non-null   object \n",
      " 2   Weekly_Sales  6435 non-null   float64\n",
      " 3   Holiday_Flag  6435 non-null   int64  \n",
      " 4   Temperature   6435 non-null   float64\n",
      " 5   Fuel_Price    6435 non-null   float64\n",
      " 6   CPI           6435 non-null   float64\n",
      " 7   Unemployment  6435 non-null   float64\n",
      "dtypes: float64(5), int64(2), object(1)\n",
      "memory usage: 402.3+ KB\n"
     ]
    }
   ],
   "source": [
    "df.info()"
   ]
  },
  {
   "cell_type": "code",
   "execution_count": 5,
   "id": "044c9c1e",
   "metadata": {
    "execution": {
     "iopub.execute_input": "2022-11-18T19:11:09.422191Z",
     "iopub.status.busy": "2022-11-18T19:11:09.421712Z",
     "iopub.status.idle": "2022-11-18T19:11:09.427564Z",
     "shell.execute_reply": "2022-11-18T19:11:09.426837Z"
    },
    "papermill": {
     "duration": 0.018235,
     "end_time": "2022-11-18T19:11:09.429443",
     "exception": false,
     "start_time": "2022-11-18T19:11:09.411208",
     "status": "completed"
    },
    "tags": []
   },
   "outputs": [
    {
     "data": {
      "text/plain": [
       "(6435, 8)"
      ]
     },
     "execution_count": 5,
     "metadata": {},
     "output_type": "execute_result"
    }
   ],
   "source": [
    "df.shape"
   ]
  },
  {
   "cell_type": "code",
   "execution_count": 6,
   "id": "dd00dbc1",
   "metadata": {
    "execution": {
     "iopub.execute_input": "2022-11-18T19:11:09.448877Z",
     "iopub.status.busy": "2022-11-18T19:11:09.447994Z",
     "iopub.status.idle": "2022-11-18T19:11:09.455802Z",
     "shell.execute_reply": "2022-11-18T19:11:09.454360Z"
    },
    "papermill": {
     "duration": 0.02032,
     "end_time": "2022-11-18T19:11:09.458381",
     "exception": false,
     "start_time": "2022-11-18T19:11:09.438061",
     "status": "completed"
    },
    "tags": []
   },
   "outputs": [
    {
     "data": {
      "text/plain": [
       "Index(['Store', 'Date', 'Weekly_Sales', 'Holiday_Flag', 'Temperature',\n",
       "       'Fuel_Price', 'CPI', 'Unemployment'],\n",
       "      dtype='object')"
      ]
     },
     "execution_count": 6,
     "metadata": {},
     "output_type": "execute_result"
    }
   ],
   "source": [
    "df.columns"
   ]
  },
  {
   "cell_type": "code",
   "execution_count": 7,
   "id": "7aec26bb",
   "metadata": {
    "execution": {
     "iopub.execute_input": "2022-11-18T19:11:09.476860Z",
     "iopub.status.busy": "2022-11-18T19:11:09.475936Z",
     "iopub.status.idle": "2022-11-18T19:11:09.484688Z",
     "shell.execute_reply": "2022-11-18T19:11:09.483267Z"
    },
    "papermill": {
     "duration": 0.020034,
     "end_time": "2022-11-18T19:11:09.486674",
     "exception": false,
     "start_time": "2022-11-18T19:11:09.466640",
     "status": "completed"
    },
    "tags": []
   },
   "outputs": [
    {
     "data": {
      "text/plain": [
       "Store             int64\n",
       "Date             object\n",
       "Weekly_Sales    float64\n",
       "Holiday_Flag      int64\n",
       "Temperature     float64\n",
       "Fuel_Price      float64\n",
       "CPI             float64\n",
       "Unemployment    float64\n",
       "dtype: object"
      ]
     },
     "execution_count": 7,
     "metadata": {},
     "output_type": "execute_result"
    }
   ],
   "source": [
    "df.dtypes"
   ]
  },
  {
   "cell_type": "code",
   "execution_count": 8,
   "id": "b35b3af1",
   "metadata": {
    "execution": {
     "iopub.execute_input": "2022-11-18T19:11:09.506270Z",
     "iopub.status.busy": "2022-11-18T19:11:09.505061Z",
     "iopub.status.idle": "2022-11-18T19:11:09.518155Z",
     "shell.execute_reply": "2022-11-18T19:11:09.517044Z"
    },
    "papermill": {
     "duration": 0.025597,
     "end_time": "2022-11-18T19:11:09.521010",
     "exception": false,
     "start_time": "2022-11-18T19:11:09.495413",
     "status": "completed"
    },
    "tags": []
   },
   "outputs": [
    {
     "data": {
      "text/plain": [
       "Store                    int64\n",
       "Date            datetime64[ns]\n",
       "Weekly_Sales           float64\n",
       "Holiday_Flag             int64\n",
       "Temperature            float64\n",
       "Fuel_Price             float64\n",
       "CPI                    float64\n",
       "Unemployment           float64\n",
       "dtype: object"
      ]
     },
     "execution_count": 8,
     "metadata": {},
     "output_type": "execute_result"
    }
   ],
   "source": [
    "# Changing the Date datatype to datetime\n",
    "\n",
    "from datetime import datetime\n",
    "df['Date'] = pd.to_datetime(df['Date']);\n",
    "\n",
    "df.dtypes"
   ]
  },
  {
   "cell_type": "code",
   "execution_count": 9,
   "id": "bd7a239e",
   "metadata": {
    "execution": {
     "iopub.execute_input": "2022-11-18T19:11:09.540701Z",
     "iopub.status.busy": "2022-11-18T19:11:09.539718Z",
     "iopub.status.idle": "2022-11-18T19:11:09.571602Z",
     "shell.execute_reply": "2022-11-18T19:11:09.570771Z"
    },
    "papermill": {
     "duration": 0.043624,
     "end_time": "2022-11-18T19:11:09.573616",
     "exception": false,
     "start_time": "2022-11-18T19:11:09.529992",
     "status": "completed"
    },
    "tags": []
   },
   "outputs": [
    {
     "data": {
      "text/html": [
       "<div>\n",
       "<style scoped>\n",
       "    .dataframe tbody tr th:only-of-type {\n",
       "        vertical-align: middle;\n",
       "    }\n",
       "\n",
       "    .dataframe tbody tr th {\n",
       "        vertical-align: top;\n",
       "    }\n",
       "\n",
       "    .dataframe thead th {\n",
       "        text-align: right;\n",
       "    }\n",
       "</style>\n",
       "<table border=\"1\" class=\"dataframe\">\n",
       "  <thead>\n",
       "    <tr style=\"text-align: right;\">\n",
       "      <th></th>\n",
       "      <th>Store</th>\n",
       "      <th>Weekly_Sales</th>\n",
       "      <th>Holiday_Flag</th>\n",
       "      <th>Temperature</th>\n",
       "      <th>Fuel_Price</th>\n",
       "      <th>CPI</th>\n",
       "      <th>Unemployment</th>\n",
       "    </tr>\n",
       "  </thead>\n",
       "  <tbody>\n",
       "    <tr>\n",
       "      <th>count</th>\n",
       "      <td>6435.000000</td>\n",
       "      <td>6.435000e+03</td>\n",
       "      <td>6435.000000</td>\n",
       "      <td>6435.000000</td>\n",
       "      <td>6435.000000</td>\n",
       "      <td>6435.000000</td>\n",
       "      <td>6435.000000</td>\n",
       "    </tr>\n",
       "    <tr>\n",
       "      <th>mean</th>\n",
       "      <td>23.000000</td>\n",
       "      <td>1.046965e+06</td>\n",
       "      <td>0.069930</td>\n",
       "      <td>60.663782</td>\n",
       "      <td>3.358607</td>\n",
       "      <td>171.578394</td>\n",
       "      <td>7.999151</td>\n",
       "    </tr>\n",
       "    <tr>\n",
       "      <th>std</th>\n",
       "      <td>12.988182</td>\n",
       "      <td>5.643666e+05</td>\n",
       "      <td>0.255049</td>\n",
       "      <td>18.444933</td>\n",
       "      <td>0.459020</td>\n",
       "      <td>39.356712</td>\n",
       "      <td>1.875885</td>\n",
       "    </tr>\n",
       "    <tr>\n",
       "      <th>min</th>\n",
       "      <td>1.000000</td>\n",
       "      <td>2.099862e+05</td>\n",
       "      <td>0.000000</td>\n",
       "      <td>-2.060000</td>\n",
       "      <td>2.472000</td>\n",
       "      <td>126.064000</td>\n",
       "      <td>3.879000</td>\n",
       "    </tr>\n",
       "    <tr>\n",
       "      <th>25%</th>\n",
       "      <td>12.000000</td>\n",
       "      <td>5.533501e+05</td>\n",
       "      <td>0.000000</td>\n",
       "      <td>47.460000</td>\n",
       "      <td>2.933000</td>\n",
       "      <td>131.735000</td>\n",
       "      <td>6.891000</td>\n",
       "    </tr>\n",
       "    <tr>\n",
       "      <th>50%</th>\n",
       "      <td>23.000000</td>\n",
       "      <td>9.607460e+05</td>\n",
       "      <td>0.000000</td>\n",
       "      <td>62.670000</td>\n",
       "      <td>3.445000</td>\n",
       "      <td>182.616521</td>\n",
       "      <td>7.874000</td>\n",
       "    </tr>\n",
       "    <tr>\n",
       "      <th>75%</th>\n",
       "      <td>34.000000</td>\n",
       "      <td>1.420159e+06</td>\n",
       "      <td>0.000000</td>\n",
       "      <td>74.940000</td>\n",
       "      <td>3.735000</td>\n",
       "      <td>212.743293</td>\n",
       "      <td>8.622000</td>\n",
       "    </tr>\n",
       "    <tr>\n",
       "      <th>max</th>\n",
       "      <td>45.000000</td>\n",
       "      <td>3.818686e+06</td>\n",
       "      <td>1.000000</td>\n",
       "      <td>100.140000</td>\n",
       "      <td>4.468000</td>\n",
       "      <td>227.232807</td>\n",
       "      <td>14.313000</td>\n",
       "    </tr>\n",
       "  </tbody>\n",
       "</table>\n",
       "</div>"
      ],
      "text/plain": [
       "             Store  Weekly_Sales  Holiday_Flag  Temperature   Fuel_Price  \\\n",
       "count  6435.000000  6.435000e+03   6435.000000  6435.000000  6435.000000   \n",
       "mean     23.000000  1.046965e+06      0.069930    60.663782     3.358607   \n",
       "std      12.988182  5.643666e+05      0.255049    18.444933     0.459020   \n",
       "min       1.000000  2.099862e+05      0.000000    -2.060000     2.472000   \n",
       "25%      12.000000  5.533501e+05      0.000000    47.460000     2.933000   \n",
       "50%      23.000000  9.607460e+05      0.000000    62.670000     3.445000   \n",
       "75%      34.000000  1.420159e+06      0.000000    74.940000     3.735000   \n",
       "max      45.000000  3.818686e+06      1.000000   100.140000     4.468000   \n",
       "\n",
       "               CPI  Unemployment  \n",
       "count  6435.000000   6435.000000  \n",
       "mean    171.578394      7.999151  \n",
       "std      39.356712      1.875885  \n",
       "min     126.064000      3.879000  \n",
       "25%     131.735000      6.891000  \n",
       "50%     182.616521      7.874000  \n",
       "75%     212.743293      8.622000  \n",
       "max     227.232807     14.313000  "
      ]
     },
     "execution_count": 9,
     "metadata": {},
     "output_type": "execute_result"
    }
   ],
   "source": [
    "# Descriptive Statistics\n",
    "\n",
    "df.describe()"
   ]
  },
  {
   "cell_type": "code",
   "execution_count": 10,
   "id": "dd06560b",
   "metadata": {
    "execution": {
     "iopub.execute_input": "2022-11-18T19:11:09.592874Z",
     "iopub.status.busy": "2022-11-18T19:11:09.592326Z",
     "iopub.status.idle": "2022-11-18T19:11:09.624312Z",
     "shell.execute_reply": "2022-11-18T19:11:09.622897Z"
    },
    "papermill": {
     "duration": 0.044321,
     "end_time": "2022-11-18T19:11:09.626598",
     "exception": false,
     "start_time": "2022-11-18T19:11:09.582277",
     "status": "completed"
    },
    "tags": []
   },
   "outputs": [
    {
     "data": {
      "text/html": [
       "<div>\n",
       "<style scoped>\n",
       "    .dataframe tbody tr th:only-of-type {\n",
       "        vertical-align: middle;\n",
       "    }\n",
       "\n",
       "    .dataframe tbody tr th {\n",
       "        vertical-align: top;\n",
       "    }\n",
       "\n",
       "    .dataframe thead th {\n",
       "        text-align: right;\n",
       "    }\n",
       "</style>\n",
       "<table border=\"1\" class=\"dataframe\">\n",
       "  <thead>\n",
       "    <tr style=\"text-align: right;\">\n",
       "      <th></th>\n",
       "      <th>count</th>\n",
       "      <th>mean</th>\n",
       "      <th>std</th>\n",
       "      <th>min</th>\n",
       "      <th>25%</th>\n",
       "      <th>50%</th>\n",
       "      <th>75%</th>\n",
       "      <th>max</th>\n",
       "    </tr>\n",
       "  </thead>\n",
       "  <tbody>\n",
       "    <tr>\n",
       "      <th>Store</th>\n",
       "      <td>6435.0</td>\n",
       "      <td>2.300000e+01</td>\n",
       "      <td>12.988182</td>\n",
       "      <td>1.000</td>\n",
       "      <td>12.000</td>\n",
       "      <td>23.000000</td>\n",
       "      <td>3.400000e+01</td>\n",
       "      <td>4.500000e+01</td>\n",
       "    </tr>\n",
       "    <tr>\n",
       "      <th>Weekly_Sales</th>\n",
       "      <td>6435.0</td>\n",
       "      <td>1.046965e+06</td>\n",
       "      <td>564366.622054</td>\n",
       "      <td>209986.250</td>\n",
       "      <td>553350.105</td>\n",
       "      <td>960746.040000</td>\n",
       "      <td>1.420159e+06</td>\n",
       "      <td>3.818686e+06</td>\n",
       "    </tr>\n",
       "    <tr>\n",
       "      <th>Holiday_Flag</th>\n",
       "      <td>6435.0</td>\n",
       "      <td>6.993007e-02</td>\n",
       "      <td>0.255049</td>\n",
       "      <td>0.000</td>\n",
       "      <td>0.000</td>\n",
       "      <td>0.000000</td>\n",
       "      <td>0.000000e+00</td>\n",
       "      <td>1.000000e+00</td>\n",
       "    </tr>\n",
       "    <tr>\n",
       "      <th>Temperature</th>\n",
       "      <td>6435.0</td>\n",
       "      <td>6.066378e+01</td>\n",
       "      <td>18.444933</td>\n",
       "      <td>-2.060</td>\n",
       "      <td>47.460</td>\n",
       "      <td>62.670000</td>\n",
       "      <td>7.494000e+01</td>\n",
       "      <td>1.001400e+02</td>\n",
       "    </tr>\n",
       "    <tr>\n",
       "      <th>Fuel_Price</th>\n",
       "      <td>6435.0</td>\n",
       "      <td>3.358607e+00</td>\n",
       "      <td>0.459020</td>\n",
       "      <td>2.472</td>\n",
       "      <td>2.933</td>\n",
       "      <td>3.445000</td>\n",
       "      <td>3.735000e+00</td>\n",
       "      <td>4.468000e+00</td>\n",
       "    </tr>\n",
       "    <tr>\n",
       "      <th>CPI</th>\n",
       "      <td>6435.0</td>\n",
       "      <td>1.715784e+02</td>\n",
       "      <td>39.356712</td>\n",
       "      <td>126.064</td>\n",
       "      <td>131.735</td>\n",
       "      <td>182.616521</td>\n",
       "      <td>2.127433e+02</td>\n",
       "      <td>2.272328e+02</td>\n",
       "    </tr>\n",
       "    <tr>\n",
       "      <th>Unemployment</th>\n",
       "      <td>6435.0</td>\n",
       "      <td>7.999151e+00</td>\n",
       "      <td>1.875885</td>\n",
       "      <td>3.879</td>\n",
       "      <td>6.891</td>\n",
       "      <td>7.874000</td>\n",
       "      <td>8.622000e+00</td>\n",
       "      <td>1.431300e+01</td>\n",
       "    </tr>\n",
       "  </tbody>\n",
       "</table>\n",
       "</div>"
      ],
      "text/plain": [
       "               count          mean            std         min         25%  \\\n",
       "Store         6435.0  2.300000e+01      12.988182       1.000      12.000   \n",
       "Weekly_Sales  6435.0  1.046965e+06  564366.622054  209986.250  553350.105   \n",
       "Holiday_Flag  6435.0  6.993007e-02       0.255049       0.000       0.000   \n",
       "Temperature   6435.0  6.066378e+01      18.444933      -2.060      47.460   \n",
       "Fuel_Price    6435.0  3.358607e+00       0.459020       2.472       2.933   \n",
       "CPI           6435.0  1.715784e+02      39.356712     126.064     131.735   \n",
       "Unemployment  6435.0  7.999151e+00       1.875885       3.879       6.891   \n",
       "\n",
       "                        50%           75%           max  \n",
       "Store             23.000000  3.400000e+01  4.500000e+01  \n",
       "Weekly_Sales  960746.040000  1.420159e+06  3.818686e+06  \n",
       "Holiday_Flag       0.000000  0.000000e+00  1.000000e+00  \n",
       "Temperature       62.670000  7.494000e+01  1.001400e+02  \n",
       "Fuel_Price         3.445000  3.735000e+00  4.468000e+00  \n",
       "CPI              182.616521  2.127433e+02  2.272328e+02  \n",
       "Unemployment       7.874000  8.622000e+00  1.431300e+01  "
      ]
     },
     "execution_count": 10,
     "metadata": {},
     "output_type": "execute_result"
    }
   ],
   "source": [
    "# Descriptive Statistics\n",
    "\n",
    "df.describe().T"
   ]
  },
  {
   "cell_type": "code",
   "execution_count": 11,
   "id": "19008dbe",
   "metadata": {
    "execution": {
     "iopub.execute_input": "2022-11-18T19:11:09.647494Z",
     "iopub.status.busy": "2022-11-18T19:11:09.646008Z",
     "iopub.status.idle": "2022-11-18T19:11:09.657297Z",
     "shell.execute_reply": "2022-11-18T19:11:09.655803Z"
    },
    "papermill": {
     "duration": 0.023872,
     "end_time": "2022-11-18T19:11:09.659759",
     "exception": false,
     "start_time": "2022-11-18T19:11:09.635887",
     "status": "completed"
    },
    "tags": []
   },
   "outputs": [
    {
     "data": {
      "text/plain": [
       "Store           0\n",
       "Date            0\n",
       "Weekly_Sales    0\n",
       "Holiday_Flag    0\n",
       "Temperature     0\n",
       "Fuel_Price      0\n",
       "CPI             0\n",
       "Unemployment    0\n",
       "dtype: int64"
      ]
     },
     "execution_count": 11,
     "metadata": {},
     "output_type": "execute_result"
    }
   ],
   "source": [
    "df.isnull().sum()"
   ]
  },
  {
   "cell_type": "markdown",
   "id": "e358e4b1",
   "metadata": {
    "papermill": {
     "duration": 0.009214,
     "end_time": "2022-11-18T19:11:09.678268",
     "exception": false,
     "start_time": "2022-11-18T19:11:09.669054",
     "status": "completed"
    },
    "tags": []
   },
   "source": [
    "# <b>Exploratory Data Analysis</b>"
   ]
  },
  {
   "cell_type": "code",
   "execution_count": 12,
   "id": "ea0756e2",
   "metadata": {
    "execution": {
     "iopub.execute_input": "2022-11-18T19:11:09.698400Z",
     "iopub.status.busy": "2022-11-18T19:11:09.698017Z",
     "iopub.status.idle": "2022-11-18T19:11:09.726219Z",
     "shell.execute_reply": "2022-11-18T19:11:09.724308Z"
    },
    "papermill": {
     "duration": 0.041289,
     "end_time": "2022-11-18T19:11:09.728947",
     "exception": false,
     "start_time": "2022-11-18T19:11:09.687658",
     "status": "completed"
    },
    "tags": []
   },
   "outputs": [
    {
     "data": {
      "text/html": [
       "<div>\n",
       "<style scoped>\n",
       "    .dataframe tbody tr th:only-of-type {\n",
       "        vertical-align: middle;\n",
       "    }\n",
       "\n",
       "    .dataframe tbody tr th {\n",
       "        vertical-align: top;\n",
       "    }\n",
       "\n",
       "    .dataframe thead th {\n",
       "        text-align: right;\n",
       "    }\n",
       "</style>\n",
       "<table border=\"1\" class=\"dataframe\">\n",
       "  <thead>\n",
       "    <tr style=\"text-align: right;\">\n",
       "      <th></th>\n",
       "      <th>Store</th>\n",
       "      <th>Date</th>\n",
       "      <th>Weekly_Sales</th>\n",
       "      <th>Holiday_Flag</th>\n",
       "      <th>Temperature</th>\n",
       "      <th>Fuel_Price</th>\n",
       "      <th>CPI</th>\n",
       "      <th>Unemployment</th>\n",
       "      <th>Year</th>\n",
       "      <th>Month</th>\n",
       "      <th>Day</th>\n",
       "      <th>MonthYear_value</th>\n",
       "    </tr>\n",
       "  </thead>\n",
       "  <tbody>\n",
       "    <tr>\n",
       "      <th>0</th>\n",
       "      <td>1</td>\n",
       "      <td>2010-05-02</td>\n",
       "      <td>1643690.90</td>\n",
       "      <td>0</td>\n",
       "      <td>42.31</td>\n",
       "      <td>2.572</td>\n",
       "      <td>211.096358</td>\n",
       "      <td>8.106</td>\n",
       "      <td>2010</td>\n",
       "      <td>5</td>\n",
       "      <td>2</td>\n",
       "      <td>2010-05</td>\n",
       "    </tr>\n",
       "    <tr>\n",
       "      <th>1</th>\n",
       "      <td>1</td>\n",
       "      <td>2010-12-02</td>\n",
       "      <td>1641957.44</td>\n",
       "      <td>1</td>\n",
       "      <td>38.51</td>\n",
       "      <td>2.548</td>\n",
       "      <td>211.242170</td>\n",
       "      <td>8.106</td>\n",
       "      <td>2010</td>\n",
       "      <td>12</td>\n",
       "      <td>2</td>\n",
       "      <td>2010-12</td>\n",
       "    </tr>\n",
       "    <tr>\n",
       "      <th>2</th>\n",
       "      <td>1</td>\n",
       "      <td>2010-02-19</td>\n",
       "      <td>1611968.17</td>\n",
       "      <td>0</td>\n",
       "      <td>39.93</td>\n",
       "      <td>2.514</td>\n",
       "      <td>211.289143</td>\n",
       "      <td>8.106</td>\n",
       "      <td>2010</td>\n",
       "      <td>2</td>\n",
       "      <td>19</td>\n",
       "      <td>2010-02</td>\n",
       "    </tr>\n",
       "    <tr>\n",
       "      <th>3</th>\n",
       "      <td>1</td>\n",
       "      <td>2010-02-26</td>\n",
       "      <td>1409727.59</td>\n",
       "      <td>0</td>\n",
       "      <td>46.63</td>\n",
       "      <td>2.561</td>\n",
       "      <td>211.319643</td>\n",
       "      <td>8.106</td>\n",
       "      <td>2010</td>\n",
       "      <td>2</td>\n",
       "      <td>26</td>\n",
       "      <td>2010-02</td>\n",
       "    </tr>\n",
       "    <tr>\n",
       "      <th>4</th>\n",
       "      <td>1</td>\n",
       "      <td>2010-05-03</td>\n",
       "      <td>1554806.68</td>\n",
       "      <td>0</td>\n",
       "      <td>46.50</td>\n",
       "      <td>2.625</td>\n",
       "      <td>211.350143</td>\n",
       "      <td>8.106</td>\n",
       "      <td>2010</td>\n",
       "      <td>5</td>\n",
       "      <td>3</td>\n",
       "      <td>2010-05</td>\n",
       "    </tr>\n",
       "  </tbody>\n",
       "</table>\n",
       "</div>"
      ],
      "text/plain": [
       "   Store       Date  Weekly_Sales  Holiday_Flag  Temperature  Fuel_Price  \\\n",
       "0      1 2010-05-02    1643690.90             0        42.31       2.572   \n",
       "1      1 2010-12-02    1641957.44             1        38.51       2.548   \n",
       "2      1 2010-02-19    1611968.17             0        39.93       2.514   \n",
       "3      1 2010-02-26    1409727.59             0        46.63       2.561   \n",
       "4      1 2010-05-03    1554806.68             0        46.50       2.625   \n",
       "\n",
       "          CPI  Unemployment  Year  Month  Day MonthYear_value  \n",
       "0  211.096358         8.106  2010      5    2         2010-05  \n",
       "1  211.242170         8.106  2010     12    2         2010-12  \n",
       "2  211.289143         8.106  2010      2   19         2010-02  \n",
       "3  211.319643         8.106  2010      2   26         2010-02  \n",
       "4  211.350143         8.106  2010      5    3         2010-05  "
      ]
     },
     "execution_count": 12,
     "metadata": {},
     "output_type": "execute_result"
    }
   ],
   "source": [
    "df['Year']=df['Date'].dt.year\n",
    "df['Month']=df['Date'].dt.month\n",
    "df['Day']=df['Date'].dt.day\n",
    "df['MonthYear_value'] = df['Date'].dt.to_period('M')\n",
    "df.head()"
   ]
  },
  {
   "cell_type": "code",
   "execution_count": 13,
   "id": "cb436d2d",
   "metadata": {
    "execution": {
     "iopub.execute_input": "2022-11-18T19:11:09.750276Z",
     "iopub.status.busy": "2022-11-18T19:11:09.749911Z",
     "iopub.status.idle": "2022-11-18T19:11:09.757653Z",
     "shell.execute_reply": "2022-11-18T19:11:09.756638Z"
    },
    "papermill": {
     "duration": 0.021444,
     "end_time": "2022-11-18T19:11:09.760283",
     "exception": false,
     "start_time": "2022-11-18T19:11:09.738839",
     "status": "completed"
    },
    "tags": []
   },
   "outputs": [
    {
     "data": {
      "text/plain": [
       "(6435, 12)"
      ]
     },
     "execution_count": 13,
     "metadata": {},
     "output_type": "execute_result"
    }
   ],
   "source": [
    "df.shape"
   ]
  },
  {
   "cell_type": "code",
   "execution_count": 14,
   "id": "f982ec22",
   "metadata": {
    "execution": {
     "iopub.execute_input": "2022-11-18T19:11:09.780352Z",
     "iopub.status.busy": "2022-11-18T19:11:09.779939Z",
     "iopub.status.idle": "2022-11-18T19:11:10.921563Z",
     "shell.execute_reply": "2022-11-18T19:11:10.919953Z"
    },
    "papermill": {
     "duration": 1.154477,
     "end_time": "2022-11-18T19:11:10.924042",
     "exception": false,
     "start_time": "2022-11-18T19:11:09.769565",
     "status": "completed"
    },
    "tags": []
   },
   "outputs": [
    {
     "data": {
      "text/plain": [
       "array([[<AxesSubplot:title={'center':'Year'}>,\n",
       "        <AxesSubplot:title={'center':'Store'}>,\n",
       "        <AxesSubplot:title={'center':'Holiday_Flag'}>],\n",
       "       [<AxesSubplot:title={'center':'Temperature'}>,\n",
       "        <AxesSubplot:title={'center':'CPI'}>,\n",
       "        <AxesSubplot:title={'center':'Fuel_Price'}>],\n",
       "       [<AxesSubplot:title={'center':'Unemployment'}>, <AxesSubplot:>,\n",
       "        <AxesSubplot:>]], dtype=object)"
      ]
     },
     "execution_count": 14,
     "metadata": {},
     "output_type": "execute_result"
    },
    {
     "data": {
      "image/png": "[encoded data removed]",
      "text/plain": [
       "<Figure size 1152x432 with 9 Axes>"
      ]
     },
     "metadata": {
      "needs_background": "light"
     },
     "output_type": "display_data"
    }
   ],
   "source": [
    "df[['Year', 'Store', 'Holiday_Flag','Temperature','CPI','Fuel_Price', 'Unemployment']].hist(\n",
    " bins=15, figsize=(16, 6))"
   ]
  },
  {
   "cell_type": "code",
   "execution_count": 15,
   "id": "fa40896a",
   "metadata": {
    "execution": {
     "iopub.execute_input": "2022-11-18T19:11:10.945793Z",
     "iopub.status.busy": "2022-11-18T19:11:10.945078Z",
     "iopub.status.idle": "2022-11-18T19:11:11.267359Z",
     "shell.execute_reply": "2022-11-18T19:11:11.266300Z"
    },
    "papermill": {
     "duration": 0.335815,
     "end_time": "2022-11-18T19:11:11.269423",
     "exception": false,
     "start_time": "2022-11-18T19:11:10.933608",
     "status": "completed"
    },
    "tags": []
   },
   "outputs": [
    {
     "data": {
      "image/png": "[encoded data removed]",
      "text/plain": [
       "<Figure size 1152x432 with 1 Axes>"
      ]
     },
     "metadata": {
      "needs_background": "light"
     },
     "output_type": "display_data"
    }
   ],
   "source": [
    "sales_year = df.groupby(['MonthYear_value']).sum()\n",
    "sales_year[['Weekly_Sales']].plot(\n",
    " figsize=(16, 6), subplots=True);"
   ]
  },
  {
   "cell_type": "code",
   "execution_count": 16,
   "id": "f800e8bd",
   "metadata": {
    "execution": {
     "iopub.execute_input": "2022-11-18T19:11:11.291710Z",
     "iopub.status.busy": "2022-11-18T19:11:11.291338Z",
     "iopub.status.idle": "2022-11-18T19:11:22.204892Z",
     "shell.execute_reply": "2022-11-18T19:11:22.203450Z"
    },
    "papermill": {
     "duration": 10.927631,
     "end_time": "2022-11-18T19:11:22.207685",
     "exception": false,
     "start_time": "2022-11-18T19:11:11.280054",
     "status": "completed"
    },
    "tags": []
   },
   "outputs": [
    {
     "data": {
      "text/plain": [
       "Text(0.5, 1.0, 'Monthwise Sales')"
      ]
     },
     "execution_count": 16,
     "metadata": {},
     "output_type": "execute_result"
    },
    {
     "data": {
      "image/png": "[encoded data removed]",
      "text/plain": [
       "<Figure size 1120x560 with 1 Axes>"
      ]
     },
     "metadata": {
      "needs_background": "light"
     },
     "output_type": "display_data"
    }
   ],
   "source": [
    "# Monthwise Sales\n",
    "\n",
    "df['Day'] = pd.DatetimeIndex(df['Date']).day\n",
    "df['Month'] = pd.DatetimeIndex(df['Date']).month\n",
    "df['Year'] = pd.DatetimeIndex(df['Date']).year\n",
    "\n",
    "\n",
    "\n",
    "\n",
    "plt.figure(figsize=(14,7), dpi=80)\n",
    "plt.bar(df['Month'], df['Weekly_Sales'])\n",
    "plt.xlabel('Months')\n",
    "plt.ylabel('Weekly_Sales')\n",
    "plt.title('Monthwise Sales')"
   ]
  },
  {
   "cell_type": "code",
   "execution_count": 17,
   "id": "4774abf5",
   "metadata": {
    "execution": {
     "iopub.execute_input": "2022-11-18T19:11:22.231887Z",
     "iopub.status.busy": "2022-11-18T19:11:22.231492Z",
     "iopub.status.idle": "2022-11-18T19:11:22.383650Z",
     "shell.execute_reply": "2022-11-18T19:11:22.382354Z"
    },
    "papermill": {
     "duration": 0.168075,
     "end_time": "2022-11-18T19:11:22.386629",
     "exception": false,
     "start_time": "2022-11-18T19:11:22.218554",
     "status": "completed"
    },
    "tags": []
   },
   "outputs": [
    {
     "data": {
      "text/plain": [
       "Text(0.5, 1.0, 'Yearly Sales')"
      ]
     },
     "execution_count": 17,
     "metadata": {},
     "output_type": "execute_result"
    },
    {
     "data": {
      "text/plain": [
       "<Figure size 800x560 with 0 Axes>"
      ]
     },
     "metadata": {},
     "output_type": "display_data"
    },
    {
     "data": {
      "image/png": "[encoded data removed]",
      "text/plain": [
       "<Figure size 432x288 with 1 Axes>"
      ]
     },
     "metadata": {
      "needs_background": "light"
     },
     "output_type": "display_data"
    }
   ],
   "source": [
    "# Yearly Sales\n",
    "\n",
    "plt.figure(figsize=(10,7), dpi=80)\n",
    "df.groupby('Year')[['Weekly_Sales']].sum().plot(kind='bar', legend=False)\n",
    "plt.title('Yearly Sales')"
   ]
  },
  {
   "cell_type": "code",
   "execution_count": 18,
   "id": "7672123a",
   "metadata": {
    "execution": {
     "iopub.execute_input": "2022-11-18T19:11:22.410523Z",
     "iopub.status.busy": "2022-11-18T19:11:22.410096Z",
     "iopub.status.idle": "2022-11-18T19:11:22.821130Z",
     "shell.execute_reply": "2022-11-18T19:11:22.819460Z"
    },
    "papermill": {
     "duration": 0.426168,
     "end_time": "2022-11-18T19:11:22.823950",
     "exception": false,
     "start_time": "2022-11-18T19:11:22.397782",
     "status": "completed"
    },
    "tags": []
   },
   "outputs": [
    {
     "data": {
      "image/png": "[encoded data removed]",
      "text/plain": [
       "<Figure size 960x1280 with 4 Axes>"
      ]
     },
     "metadata": {
      "needs_background": "light"
     },
     "output_type": "display_data"
    }
   ],
   "source": [
    "df = df[df['Unemployment'] <= 10.5]\n",
    "df = df[df['Unemployment'] >= 4.7]\n",
    "df = df[df['Temperature'] >= 8]\n",
    "\n",
    "\n",
    "\n",
    "fig, axis = plt.subplots(4, figsize=(12,16), dpi=80)\n",
    "x = df[['Temperature','Fuel_Price','CPI','Unemployment']]\n",
    "\n",
    "for i, column in enumerate(x):\n",
    "    sns.boxplot(df[column], ax=axis[i])"
   ]
  },
  {
   "cell_type": "markdown",
   "id": "9a4e8f15",
   "metadata": {
    "papermill": {
     "duration": 0.010741,
     "end_time": "2022-11-18T19:11:22.846040",
     "exception": false,
     "start_time": "2022-11-18T19:11:22.835299",
     "status": "completed"
    },
    "tags": []
   },
   "source": [
    "# <b>Model Building</b>"
   ]
  },
  {
   "cell_type": "code",
   "execution_count": 19,
   "id": "6abaa7dc",
   "metadata": {
    "execution": {
     "iopub.execute_input": "2022-11-18T19:11:22.870541Z",
     "iopub.status.busy": "2022-11-18T19:11:22.869860Z",
     "iopub.status.idle": "2022-11-18T19:11:23.179975Z",
     "shell.execute_reply": "2022-11-18T19:11:23.178803Z"
    },
    "papermill": {
     "duration": 0.32566,
     "end_time": "2022-11-18T19:11:23.182738",
     "exception": false,
     "start_time": "2022-11-18T19:11:22.857078",
     "status": "completed"
    },
    "tags": []
   },
   "outputs": [],
   "source": [
    "# Define Independent and dependent variable\n",
    "\n",
    "x = df[['Store', 'Fuel_Price', 'CPI', 'Unemployment', 'Day', 'Month', 'Year']]\n",
    "y = df['Weekly_Sales']\n",
    "\n",
    "\n",
    "from sklearn.model_selection import train_test_split\n",
    "x_train, x_test, y_train, y_test = train_test_split(x, y, test_size=0.2)\n",
    "\n",
    "\n",
    "from sklearn.preprocessing import StandardScaler\n",
    "sc = StandardScaler()\n",
    "x_train = sc.fit_transform(x_train)\n",
    "x_test = sc.fit_transform(x_test)"
   ]
  },
  {
   "cell_type": "markdown",
   "id": "ae7eb855",
   "metadata": {
    "papermill": {
     "duration": 0.010781,
     "end_time": "2022-11-18T19:11:23.204709",
     "exception": false,
     "start_time": "2022-11-18T19:11:23.193928",
     "status": "completed"
    },
    "tags": []
   },
   "source": [
    "# <b>Linear Regression</b>"
   ]
  },
  {
   "cell_type": "code",
   "execution_count": 20,
   "id": "02db8513",
   "metadata": {
    "execution": {
     "iopub.execute_input": "2022-11-18T19:11:23.228739Z",
     "iopub.status.busy": "2022-11-18T19:11:23.228355Z",
     "iopub.status.idle": "2022-11-18T19:11:23.700455Z",
     "shell.execute_reply": "2022-11-18T19:11:23.699671Z"
    },
    "papermill": {
     "duration": 0.486366,
     "end_time": "2022-11-18T19:11:23.702183",
     "exception": false,
     "start_time": "2022-11-18T19:11:23.215817",
     "status": "completed"
    },
    "tags": []
   },
   "outputs": [
    {
     "name": "stdout",
     "output_type": "stream",
     "text": [
      "* Linear Regression *\n",
      "\n",
      "Train Accuracy Score: 12.316 %\n",
      "Test Accuracy Score: 14.427000000000001 %\n",
      "Mean Absolute Error: 431897.142\n",
      "Mean Squared Error: 275418661409.513\n",
      "Root Mean Squared Error: 524803.45\n"
     ]
    },
    {
     "data": {
      "text/plain": [
       "<AxesSubplot:xlabel='Weekly_Sales'>"
      ]
     },
     "execution_count": 20,
     "metadata": {},
     "output_type": "execute_result"
    },
    {
     "data": {
      "image/png": "[encoded data removed]",
      "text/plain": [
       "<Figure size 525x375 with 1 Axes>"
      ]
     },
     "metadata": {
      "needs_background": "light"
     },
     "output_type": "display_data"
    }
   ],
   "source": [
    "from sklearn.linear_model import LinearRegression\n",
    "from sklearn import metrics\n",
    "from sklearn.metrics import r2_score\n",
    "\n",
    "lr = LinearRegression()\n",
    "lr.fit(x_train, y_train)\n",
    "lr_y_pred = lr.predict(x_test)\n",
    "\n",
    "print('* Linear Regression *\\n')\n",
    "\n",
    "print('Train Accuracy Score:', lr.score(x_train, y_train).round(5)*100, '%')\n",
    "print('Test Accuracy Score:', r2_score(y_test, lr_y_pred).round(5)*100, '%')\n",
    "\n",
    "print('Mean Absolute Error:', metrics.mean_absolute_error(y_test, lr_y_pred).round(3))\n",
    "print('Mean Squared Error:', metrics.mean_squared_error(y_test, lr_y_pred).round(3))\n",
    "print('Root Mean Squared Error:', np.sqrt(metrics.mean_squared_error(y_test, lr_y_pred)).round(3))\n",
    "\n",
    "plt.figure(figsize=(7,5), dpi=75)\n",
    "sns.regplot(y_test, lr_y_pred)"
   ]
  },
  {
   "cell_type": "code",
   "execution_count": 21,
   "id": "bb6a5bb7",
   "metadata": {
    "execution": {
     "iopub.execute_input": "2022-11-18T19:11:23.728769Z",
     "iopub.status.busy": "2022-11-18T19:11:23.728141Z",
     "iopub.status.idle": "2022-11-18T19:11:23.760390Z",
     "shell.execute_reply": "2022-11-18T19:11:23.759446Z"
    },
    "papermill": {
     "duration": 0.047771,
     "end_time": "2022-11-18T19:11:23.762488",
     "exception": false,
     "start_time": "2022-11-18T19:11:23.714717",
     "status": "completed"
    },
    "tags": []
   },
   "outputs": [
    {
     "name": "stdout",
     "output_type": "stream",
     "text": [
      "[0.11015095 0.11410546 0.11866153 0.07970809 0.1322775  0.10915598\n",
      " 0.15702261 0.10269452 0.1330947  0.13475883]\n",
      "Mean Score: 11.916301922610591 %\n"
     ]
    }
   ],
   "source": [
    "# Cross Validation of Linear Regression\n",
    "\n",
    "\n",
    "\n",
    "from sklearn.model_selection import cross_val_score\n",
    "\n",
    "\n",
    "# Linear Regression\n",
    "\n",
    "lr_scores = cross_val_score(lr, x_train,y_train, cv=10, scoring='r2')\n",
    "print(lr_scores)\n",
    "print(\"Mean Score:\", lr_scores.mean()*100,'%')"
   ]
  },
  {
   "cell_type": "markdown",
   "id": "0856ac40",
   "metadata": {
    "papermill": {
     "duration": 0.011732,
     "end_time": "2022-11-18T19:11:23.787058",
     "exception": false,
     "start_time": "2022-11-18T19:11:23.775326",
     "status": "completed"
    },
    "tags": []
   },
   "source": [
    "# <b>Random Forest Regressor</b>"
   ]
  },
  {
   "cell_type": "code",
   "execution_count": 22,
   "id": "3208a24c",
   "metadata": {
    "execution": {
     "iopub.execute_input": "2022-11-18T19:11:23.813397Z",
     "iopub.status.busy": "2022-11-18T19:11:23.812803Z",
     "iopub.status.idle": "2022-11-18T19:11:25.796353Z",
     "shell.execute_reply": "2022-11-18T19:11:25.795042Z"
    },
    "papermill": {
     "duration": 2.000171,
     "end_time": "2022-11-18T19:11:25.799609",
     "exception": false,
     "start_time": "2022-11-18T19:11:23.799438",
     "status": "completed"
    },
    "tags": []
   },
   "outputs": [
    {
     "name": "stdout",
     "output_type": "stream",
     "text": [
      "* Random Forest Regressor *\n",
      "\n",
      "Accuracy                 = 93.375 %\n",
      "Mean Absolute Error      = 80335.22335\n",
      "Mean Squared Error       = 21323774910.44586\n",
      "Root Mean Squared Error  = 146026.62398\n"
     ]
    },
    {
     "data": {
      "text/plain": [
       "<AxesSubplot:xlabel='Weekly_Sales'>"
      ]
     },
     "execution_count": 22,
     "metadata": {},
     "output_type": "execute_result"
    },
    {
     "data": {
      "image/png": "[encoded data removed]",
      "text/plain": [
       "<Figure size 525x375 with 1 Axes>"
      ]
     },
     "metadata": {
      "needs_background": "light"
     },
     "output_type": "display_data"
    }
   ],
   "source": [
    "from sklearn.ensemble import RandomForestRegressor\n",
    "rfr = RandomForestRegressor()\n",
    "rfr.fit(x_train,y_train)\n",
    "\n",
    "rfr_y_pred = rfr.predict(x_test)\n",
    "\n",
    "R2_rfr = r2_score(y_test, rfr_y_pred)\n",
    "mae = metrics.mean_absolute_error(y_test, rfr_y_pred)\n",
    "mse = metrics.mean_squared_error(y_test, rfr_y_pred)\n",
    "rmse = np.sqrt(metrics.mean_squared_error(y_test, rfr_y_pred))\n",
    "\n",
    "print('* Random Forest Regressor *\\n')\n",
    "\n",
    "print('Accuracy                 =', R2_rfr.round(5)*100,'%')\n",
    "print('Mean Absolute Error      =', mae.round(5))\n",
    "print('Mean Squared Error       =', mse.round(5))\n",
    "print('Root Mean Squared Error  =', rmse.round(5))\n",
    "\n",
    "plt.figure(figsize=(7,5), dpi=75)\n",
    "sns.regplot(y_test, rfr_y_pred)"
   ]
  },
  {
   "cell_type": "code",
   "execution_count": 23,
   "id": "8ebf7c3a",
   "metadata": {
    "execution": {
     "iopub.execute_input": "2022-11-18T19:11:25.827837Z",
     "iopub.status.busy": "2022-11-18T19:11:25.827391Z",
     "iopub.status.idle": "2022-11-18T19:11:38.951698Z",
     "shell.execute_reply": "2022-11-18T19:11:38.950096Z"
    },
    "papermill": {
     "duration": 13.141205,
     "end_time": "2022-11-18T19:11:38.954045",
     "exception": false,
     "start_time": "2022-11-18T19:11:25.812840",
     "status": "completed"
    },
    "tags": []
   },
   "outputs": [
    {
     "name": "stdout",
     "output_type": "stream",
     "text": [
      "[0.94182875 0.94795221 0.93744691 0.93974805 0.95080762 0.95744027\n",
      " 0.9512066  0.94576162 0.93497019 0.93296461]\n",
      "Mean Score: 94.4012682988436 %\n"
     ]
    }
   ],
   "source": [
    "# Cross Validation of Random Forest Regression\n",
    "\n",
    "\n",
    "rfr_scores = cross_val_score(rfr, x_train,y_train, cv=10, scoring='r2')\n",
    "print(rfr_scores)\n",
    "print(\"Mean Score:\", rfr_scores.mean()*100,'%')"
   ]
  },
  {
   "cell_type": "markdown",
   "id": "cb601ad0",
   "metadata": {
    "papermill": {
     "duration": 0.013758,
     "end_time": "2022-11-18T19:11:38.981446",
     "exception": false,
     "start_time": "2022-11-18T19:11:38.967688",
     "status": "completed"
    },
    "tags": []
   },
   "source": [
    "# <b>Decission Tree Regressor</b>"
   ]
  },
  {
   "cell_type": "code",
   "execution_count": 24,
   "id": "99fe8af7",
   "metadata": {
    "execution": {
     "iopub.execute_input": "2022-11-18T19:11:39.009280Z",
     "iopub.status.busy": "2022-11-18T19:11:39.008870Z",
     "iopub.status.idle": "2022-11-18T19:11:39.354149Z",
     "shell.execute_reply": "2022-11-18T19:11:39.352377Z"
    },
    "papermill": {
     "duration": 0.362244,
     "end_time": "2022-11-18T19:11:39.356732",
     "exception": false,
     "start_time": "2022-11-18T19:11:38.994488",
     "status": "completed"
    },
    "tags": []
   },
   "outputs": [
    {
     "name": "stdout",
     "output_type": "stream",
     "text": [
      "* Decision Tree Regressor *\n",
      "\n",
      "Accuracy                 = 88.67 %\n",
      "Mean Absolute Error      = 102000.52052\n",
      "Mean Squared Error       = 36465398895.8725\n",
      "Root Mean Squared Error  = 190959.15505\n"
     ]
    },
    {
     "data": {
      "text/plain": [
       "<AxesSubplot:xlabel='Weekly_Sales'>"
      ]
     },
     "execution_count": 24,
     "metadata": {},
     "output_type": "execute_result"
    },
    {
     "data": {
      "image/png": "[encoded data removed]",
      "text/plain": [
       "<Figure size 525x375 with 1 Axes>"
      ]
     },
     "metadata": {
      "needs_background": "light"
     },
     "output_type": "display_data"
    }
   ],
   "source": [
    "from sklearn.tree import DecisionTreeRegressor\n",
    "dtr = DecisionTreeRegressor()\n",
    "dtr.fit(x_train,y_train)\n",
    "\n",
    "dtr_y_pred = dtr.predict(x_test)\n",
    "\n",
    "R2_dtr = r2_score(y_test,dtr_y_pred)\n",
    "mae = metrics.mean_absolute_error(y_test, dtr_y_pred)\n",
    "mse = metrics.mean_squared_error(y_test, dtr_y_pred)\n",
    "rmse = np.sqrt(metrics.mean_squared_error(y_test, dtr_y_pred))\n",
    "\n",
    "print('* Decision Tree Regressor *\\n')\n",
    "\n",
    "print('Accuracy                 =', R2_dtr.round(5)*100,'%')\n",
    "print('Mean Absolute Error      =', mae.round(5))\n",
    "print('Mean Squared Error       =', mse.round(5))\n",
    "print('Root Mean Squared Error  =', rmse.round(5))\n",
    "\n",
    "plt.figure(figsize=(7,5), dpi=75)\n",
    "sns.regplot(y_test, dtr_y_pred)"
   ]
  },
  {
   "cell_type": "code",
   "execution_count": 25,
   "id": "7f98ffc3",
   "metadata": {
    "execution": {
     "iopub.execute_input": "2022-11-18T19:11:39.385738Z",
     "iopub.status.busy": "2022-11-18T19:11:39.385345Z",
     "iopub.status.idle": "2022-11-18T19:11:39.609134Z",
     "shell.execute_reply": "2022-11-18T19:11:39.607221Z"
    },
    "papermill": {
     "duration": 0.241617,
     "end_time": "2022-11-18T19:11:39.611920",
     "exception": false,
     "start_time": "2022-11-18T19:11:39.370303",
     "status": "completed"
    },
    "tags": []
   },
   "outputs": [
    {
     "name": "stdout",
     "output_type": "stream",
     "text": [
      "[0.883947   0.91756174 0.89172153 0.9017781  0.91568826 0.92289565\n",
      " 0.9183948  0.93551455 0.91142054 0.90887308]\n",
      "Mean Score: 91.07795261708544 %\n"
     ]
    }
   ],
   "source": [
    "# Cross Validation of Decision Tree\n",
    "\n",
    "\n",
    "dtr_scores = cross_val_score(dtr, x_train,y_train, cv=10, scoring='r2')\n",
    "print(dtr_scores)\n",
    "print(\"Mean Score:\", dtr_scores.mean()*100,'%')"
   ]
  },
  {
   "cell_type": "markdown",
   "id": "6b8405b2",
   "metadata": {
    "papermill": {
     "duration": 0.013204,
     "end_time": "2022-11-18T19:11:39.639435",
     "exception": false,
     "start_time": "2022-11-18T19:11:39.626231",
     "status": "completed"
    },
    "tags": []
   },
   "source": [
    "\n",
    "Conclusion\n",
    "\n",
    "Here, we have used 3 different algorithms to understand which model to use to predict the weekly sales. Linear Regression is not an appropriate model to use as accuracy is very low. However, Random Forest Regression gives accuracy of almost 95% . so, it is the best model to forecast weekly sales.\n"
   ]
  }
 ],
 "metadata": {
  "kernelspec": {
   "display_name": "Python 3",
   "language": "python",
   "name": "python3"
  },
  "language_info": {
   "codemirror_mode": {
    "name": "ipython",
    "version": 3
   },
   "file_extension": ".py",
   "mimetype": "text/x-python",
   "name": "python",
   "nbconvert_exporter": "python",
   "pygments_lexer": "ipython3",
   "version": "3.7.12"
  },
  "papermill": {
   "default_parameters": {},
   "duration": 41.622812,
   "end_time": "2022-11-18T19:11:41.378511",
   "environment_variables": {},
   "exception": null,
   "input_path": "__notebook__.ipynb",
   "output_path": "__notebook__.ipynb",
   "parameters": {},
   "start_time": "2022-11-18T19:10:59.755699",
   "version": "2.3.4"
  }
 },
 "nbformat": 4,
 "nbformat_minor": 5
}
